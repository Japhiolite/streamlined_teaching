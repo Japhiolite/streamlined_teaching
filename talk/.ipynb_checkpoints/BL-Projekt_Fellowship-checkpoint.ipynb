{
 "cells": [
  {
   "cell_type": "markdown",
   "metadata": {
    "slideshow": {
     "slide_type": "slide"
    }
   },
   "source": [
    "# Interaktiv programmieren lernen mit Jupyter Notebooks\n",
    "\n",
    "\n",
    "\n",
    "### Fellowship Projekt am CGRE"
   ]
  },
  {
   "cell_type": "markdown",
   "metadata": {
    "slideshow": {
     "slide_type": "slide"
    }
   },
   "source": [
    "# Agenda\n",
    "\n",
    "0. Ziel des Fellowships  \n",
    "1. Stand der Dinge - Neuerungen zum zurückliegenden ETS Projekt  \n",
    "2. Erweiterungen - NbExtensions\n",
    "3. Prüfungsleistungen mit Jupyter Notebooks  \n",
    "    3.1 Lokal erstellte Prüfungsaufgaben und Verteilung mit Moodle / l2p  \n",
    "    3.2 Zentrale, serverseitig erstellte Prüfungsaufgaben \n"
   ]
  },
  {
   "cell_type": "markdown",
   "metadata": {
    "slideshow": {
     "slide_type": "slide"
    }
   },
   "source": [
    "## 1. Ziel des Fellowships  \n",
    "\n",
    "\n",
    "<img src=\"https://cdn-images-1.medium.com/max/2000/1*brjYnVlXwM3j_SWXImT0Rg.png\" style=\"float: right; width: 45%; margin-right: 3%; margin-bottom: 0.5em;\"> \n",
    "\n",
    "<hr>\n",
    "<center>*Programmieren ist schwer.*</center> \n",
    "<hr> \n",
    "So ist jedenfalls die Auffassung vieler.   \n",
    "\n",
    "Doch sind (grundlegende) Programmierkenntnisse immer mehr von Vorteil.   \n",
    "\n",
    "\n",
    "Gewünschte Kernkompetenzen im Arbeitsmarkt:  \n",
    "* Datenanalyse, Dateninterpretation  \n",
    "* allg. Digitalkompetenz  \n",
    "* Programmieren\n"
   ]
  },
  {
   "cell_type": "markdown",
   "metadata": {
    "slideshow": {
     "slide_type": "subslide"
    }
   },
   "source": [
    "<img src=\"https://imgs.xkcd.com/comics/machine_learning.png\" style=\"float: left; width: 35%; margin-right: 3%; margin-bottom: 0.5em;\">   \n",
    "**Ansprüche**:  \n",
    "* Grundlegende Programmierkompetenz vermitteln  \n",
    "* Verständnis vermitteln, um \"black-box\" Benutzung zu vermeiden  \n",
    "\n",
    "<hr>\n",
    "\n",
    "**Lösungsansätze**:  \n",
    "* Digitale Tools nutzen um Studierenden stufenweisen Einstieg zu ermöglichen  \n",
    "* Kein Start mit einer *leeren IDE*  \n",
    "* Interaktive Ansätze nutzen, um ...  \n",
    "    * Konzepte leichter zu verdeutlichen  \n",
    "    * Stufenweisen Einstieg zu ermöglichen"
   ]
  },
  {
   "cell_type": "markdown",
   "metadata": {
    "slideshow": {
     "slide_type": "subslide"
    }
   },
   "source": [
    "<img src=\"notebook_lvl.PNG\" width=\"55%\">   \n"
   ]
  },
  {
   "cell_type": "markdown",
   "metadata": {
    "slideshow": {
     "slide_type": "slide"
    }
   },
   "source": [
    "## 2. Stand der Dinge - Neuerungen \n",
    "\n",
    "In einem zurückliegenden **E**xploratory **T**eaching **S**pace Projekt (ETS) wurden Methoden implementiert, um Vorlesungsinhalte in Jupyter Notebooks interaktiver zu gestalten. "
   ]
  },
  {
   "cell_type": "markdown",
   "metadata": {},
   "source": [
    "![programming-hard](https://cdn-images-1.medium.com/max/2000/1*brjYnVlXwM3j_SWXImT0Rg.png)\n",
    "![xkcd](https://imgs.xkcd.com/comics/machine_learning.png)"
   ]
  }
 ],
 "metadata": {
  "celltoolbar": "Slideshow",
  "hide_input": false,
  "kernelspec": {
   "display_name": "Python 3",
   "language": "python",
   "name": "python3"
  },
  "language_info": {
   "codemirror_mode": {
    "name": "ipython",
    "version": 3
   },
   "file_extension": ".py",
   "mimetype": "text/x-python",
   "name": "python",
   "nbconvert_exporter": "python",
   "pygments_lexer": "ipython3",
   "version": "3.6.0"
  },
  "toc": {
   "base_numbering": 1,
   "nav_menu": {},
   "number_sections": false,
   "sideBar": true,
   "skip_h1_title": false,
   "title_cell": "Table of Contents",
   "title_sidebar": "Contents",
   "toc_cell": false,
   "toc_position": {},
   "toc_section_display": true,
   "toc_window_display": false
  },
  "varInspector": {
   "cols": {
    "lenName": 16,
    "lenType": 16,
    "lenVar": 40
   },
   "kernels_config": {
    "python": {
     "delete_cmd_postfix": "",
     "delete_cmd_prefix": "del ",
     "library": "var_list.py",
     "varRefreshCmd": "print(var_dic_list())"
    },
    "r": {
     "delete_cmd_postfix": ") ",
     "delete_cmd_prefix": "rm(",
     "library": "var_list.r",
     "varRefreshCmd": "cat(var_dic_list()) "
    }
   },
   "types_to_exclude": [
    "module",
    "function",
    "builtin_function_or_method",
    "instance",
    "_Feature"
   ],
   "window_display": false
  }
 },
 "nbformat": 4,
 "nbformat_minor": 2
}
