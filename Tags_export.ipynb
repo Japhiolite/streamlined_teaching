{
 "cells": [
  {
   "cell_type": "markdown",
   "metadata": {},
   "source": [
    "# Use Tags for convert \n",
    "\n",
    "Using `tags` for cells, we can simply filter, hide, or color cells with a specific tag. In this notebook, we try to tag certain cells according to their *difficulty*.  \n",
    "We use the tags `easy` `medium` and `hard` for coloring parts of the notebook accordingly.  \n",
    "\n",
    "This notebook is generated following this [tutorial](https://nbconvert.readthedocs.io/en/latest/customizing.html)."
   ]
  },
  {
   "cell_type": "code",
   "execution_count": 1,
   "metadata": {},
   "outputs": [],
   "source": [
    "%matplotlib inline\n",
    "from ipywidgets import interactive\n",
    "import matplotlib.pyplot as plt\n",
    "import numpy as np"
   ]
  },
  {
   "cell_type": "code",
   "execution_count": 2,
   "metadata": {
    "tags": [
     "easy"
    ]
   },
   "outputs": [
    {
     "data": {
      "application/vnd.jupyter.widget-view+json": {
       "model_id": "5c7fb62bea7e40e584cc4c6e72f1baca",
       "version_major": 2,
       "version_minor": 0
      },
      "text/plain": [
       "interactive(children=(FloatSlider(value=2.5, description='amp', max=5.0), FloatSlider(value=3.0, description='…"
      ]
     },
     "metadata": {},
     "output_type": "display_data"
    }
   ],
   "source": [
    "# sine interactive\n",
    "def f(amp, freq):\n",
    "    plt.figure(2)\n",
    "    x = np.linspace(0, 4*np.pi, num=1000)\n",
    "    plt.plot(x, np.sin(freq*x)*amp)\n",
    "    plt.ylim(-5, 5)\n",
    "    plt.show()\n",
    "interactive_plot = interactive(f, amp=(0, 5.0), freq=(1, 5, 0.1))\n",
    "output = interactive_plot.children[-1]\n",
    "output.layout.height = '350px'\n",
    "interactive_plot"
   ]
  },
  {
   "cell_type": "code",
   "execution_count": 3,
   "metadata": {
    "tags": [
     "medium"
    ]
   },
   "outputs": [
    {
     "data": {
      "text/plain": [
       "[<matplotlib.lines.Line2D at 0x7fd5495feb70>]"
      ]
     },
     "execution_count": 3,
     "metadata": {},
     "output_type": "execute_result"
    },
    {
     "data": {
      "image/png": "[encoded data removed]",
      "text/plain": [
       "<matplotlib.figure.Figure at 0x7fd55096fe48>"
      ]
     },
     "metadata": {},
     "output_type": "display_data"
    }
   ],
   "source": [
    "# sine program it\n",
    "def f(x, amp, freq):\n",
    "    \"\"\"\n",
    "    write a sine function with amplitude and frequency\n",
    "    \"\"\"\n",
    "    ### BEGIN SOLUTION\n",
    "    y = amp * np.sin(x*freq)\n",
    "    return y\n",
    "    ### END SOLUTION\n",
    "\n",
    "x = np.linspace(0,6*np.pi, 100)\n",
    "y = f(x, 2, 1)\n",
    "plt.plot(x,y)"
   ]
  },
  {
   "cell_type": "code",
   "execution_count": 4,
   "metadata": {
    "tags": [
     "hard"
    ]
   },
   "outputs": [],
   "source": [
    "# program it all yourself.."
   ]
  },
  {
   "cell_type": "markdown",
   "metadata": {},
   "source": [
    "With the file written below, when we use the following nbconvert command (in the command line), we will get an html file with colored cells.   \n",
    "        ```jupyter nbconvert --to html 'example.ipynb' --template=mytemplate.tpl```\n",
    "        \n",
    "Alternatively, we can run the cells below to execute this command from a jupyter notebook."
   ]
  },
  {
   "cell_type": "code",
   "execution_count": 5,
   "metadata": {},
   "outputs": [
    {
     "name": "stdout",
     "output_type": "stream",
     "text": [
      "Overwriting mytemplate.tpl\n"
     ]
    }
   ],
   "source": [
    "%%writefile mytemplate.tpl\n",
    "\n",
    "{% extends 'full.tpl'%}\n",
    "{% block any_cell %}\n",
    "{% if 'hard' in cell['metadata'].get('tags', []) %}\n",
    "    <div class=\"alert alert-danger\">\n",
    "        {{ super() }}\n",
    "    </div>\n",
    "{% elif 'medium' in cell['metadata'].get('tags', []) %}\n",
    "    <div class=\"alert alert-warning\">\n",
    "        {{ super() }}\n",
    "    </div>\n",
    "{% elif 'easy' in cell['metadata'].get('tags', []) %}\n",
    "    <div class=\"alert alert-success\">\n",
    "        {{ super() }}\n",
    "    </div>\n",
    "{% else %}\n",
    "    {{ super() }}\n",
    "{% endif %}\n",
    "{% endblock any_cell %}\n",
    "                         "
   ]
  },
  {
   "cell_type": "code",
   "execution_count": 6,
   "metadata": {},
   "outputs": [
    {
     "data": {
      "text/html": [
       "\n",
       "WARNING: THE COMMANDLINE INTERFACE MAY CHANGE IN FUTURE RELEASES.\n",
       "\n",
       "Options\n",
       "-------\n",
       "\n",
       "Arguments that take values are actually convenience aliases to full\n",
       "Configurables, whose aliases are listed on the help line. For more information\n",
       "on full configurables, see '--help-all'.\n",
       "\n",
       "--debug\n",
       "    set log level to logging.DEBUG (maximize logging output)\n",
       "--generate-config\n",
       "    generate default config file\n",
       "-y\n",
       "    Answer yes to any questions instead of prompting.\n",
       "--execute\n",
       "    Execute the notebook prior to export.\n",
       "--allow-errors\n",
       "    Continue notebook execution even if one of the cells throws an error and include the error message in the cell output (the default behaviour is to abort conversion). This flag is only relevant if '--execute' was specified, too.\n",
       "--stdin\n",
       "    read a single notebook file from stdin. Write the resulting notebook with default basename 'notebook.*'\n",
       "--stdout\n",
       "    Write notebook output to stdout instead of files.\n",
       "--inplace\n",
       "    Run nbconvert in place, overwriting the existing notebook (only \n",
       "    relevant when converting to notebook format)\n",
       "--log-level=<Enum> (Application.log_level)\n",
       "    Default: 30\n",
       "    Choices: (0, 10, 20, 30, 40, 50, 'DEBUG', 'INFO', 'WARN', 'ERROR', 'CRITICAL')\n",
       "    Set the log level by value or name.\n",
       "--config=<Unicode> (JupyterApp.config_file)\n",
       "    Default: ''\n",
       "    Full path of a config file.\n",
       "--to=<Unicode> (NbConvertApp.export_format)\n",
       "    Default: 'html'\n",
       "    The export format to be used, either one of the built-in formats, or a\n",
       "    dotted object name that represents the import path for an `Exporter` class\n",
       "--template=<Unicode> (TemplateExporter.template_file)\n",
       "    Default: ''\n",
       "    Name of the template file to use\n",
       "--writer=<DottedObjectName> (NbConvertApp.writer_class)\n",
       "    Default: 'FilesWriter'\n",
       "    Writer class used to write the  results of the conversion\n",
       "--post=<DottedOrNone> (NbConvertApp.postprocessor_class)\n",
       "    Default: ''\n",
       "    PostProcessor class used to write the results of the conversion\n",
       "--output=<Unicode> (NbConvertApp.output_base)\n",
       "    Default: ''\n",
       "    overwrite base name use for output files. can only be used when converting\n",
       "    one notebook at a time.\n",
       "--output-dir=<Unicode> (FilesWriter.build_directory)\n",
       "    Default: ''\n",
       "    Directory to write output(s) to. Defaults to output to the directory of each\n",
       "    notebook. To recover previous default behaviour (outputting to the current\n",
       "    working directory) use . as the flag value.\n",
       "--reveal-prefix=<Unicode> (SlidesExporter.reveal_url_prefix)\n",
       "    Default: ''\n",
       "    The URL prefix for reveal.js. This can be a a relative URL for a local copy\n",
       "    of reveal.js, or point to a CDN.\n",
       "    For speaker notes to work, a local reveal.js prefix must be used.\n",
       "--nbformat=<Enum> (NotebookExporter.nbformat_version)\n",
       "    Default: 4\n",
       "    Choices: [1, 2, 3, 4]\n",
       "    The nbformat version to write. Use this to downgrade notebooks.\n",
       "\n",
       "To see all available configurables, use `--help-all`\n",
       "\n",
       "Examples\n",
       "--------\n",
       "\n",
       "    The simplest way to use nbconvert is\n",
       "    \n",
       "    > jupyter nbconvert mynotebook.ipynb\n",
       "    \n",
       "    which will convert mynotebook.ipynb to the default format (probably HTML).\n",
       "    \n",
       "    You can specify the export format with `--to`.\n",
       "    Options include ['asciidoc', 'custom', 'hide_code_html', 'hide_code_latex', 'hide_code_pdf', 'hide_code_slides', 'html', 'html_ch', 'html_embed', 'html_toc', 'html_with_lenvs', 'html_with_toclenvs', 'latex', 'latex_with_lenvs', 'markdown', 'notebook', 'pdf', 'python', 'rst', 'script', 'selectLanguage', 'slides']\n",
       "    \n",
       "    > jupyter nbconvert --to latex mynotebook.ipynb\n",
       "    \n",
       "    Both HTML and LaTeX support multiple output templates. LaTeX includes\n",
       "    'base', 'article' and 'report'.  HTML includes 'basic' and 'full'. You\n",
       "    can specify the flavor of the format used.\n",
       "    \n",
       "    > jupyter nbconvert --to html --template basic mynotebook.ipynb\n",
       "    \n",
       "    You can also pipe the output to stdout, rather than a file\n",
       "    \n",
       "    > jupyter nbconvert mynotebook.ipynb --stdout\n",
       "    \n",
       "    PDF is generated via latex\n",
       "    \n",
       "    > jupyter nbconvert mynotebook.ipynb --to pdf\n",
       "    \n",
       "    You can get (and serve) a Reveal.js-powered slideshow\n",
       "    \n",
       "    > jupyter nbconvert myslides.ipynb --to slides --post serve\n",
       "    \n",
       "    Multiple notebooks can be given at the command line in a couple of \n",
       "    different ways:\n",
       "    \n",
       "    > jupyter nbconvert notebook*.ipynb\n",
       "    > jupyter nbconvert notebook1.ipynb notebook2.ipynb\n",
       "    \n",
       "    or you can specify the notebooks list in a config file, containing::\n",
       "    \n",
       "        c.NbConvertApp.notebooks = [\"my_notebook.ipynb\"]\n",
       "    \n",
       "    > jupyter nbconvert --config mycfg.py\n"
      ],
      "text/plain": [
       "<IPython.core.display.HTML object>"
      ]
     },
     "metadata": {},
     "output_type": "display_data"
    }
   ],
   "source": [
    "example = !jupyter nbconvert --to html 'example.ipynb' --template=mytemplate.tpl --stdout\n",
    "example = example[3:] # have to remove the first three lines which are not proper html\n",
    "from IPython.display import HTML, display\n",
    "display(HTML('\\n'.join(example)))"
   ]
  }
 ],
 "metadata": {
  "celltoolbar": "Tags",
  "hide_input": false,
  "kernelspec": {
   "display_name": "Python 3",
   "language": "python",
   "name": "python3"
  },
  "language_info": {
   "codemirror_mode": {
    "name": "ipython",
    "version": 3
   },
   "file_extension": ".py",
   "mimetype": "text/x-python",
   "name": "python",
   "nbconvert_exporter": "python",
   "pygments_lexer": "ipython3",
   "version": "3.6.1"
  },
  "toc": {
   "base_numbering": 1,
   "nav_menu": {},
   "number_sections": false,
   "sideBar": true,
   "skip_h1_title": false,
   "title_cell": "Table of Contents",
   "title_sidebar": "Contents",
   "toc_cell": false,
   "toc_position": {},
   "toc_section_display": true,
   "toc_window_display": false
  },
  "varInspector": {
   "cols": {
    "lenName": 16,
    "lenType": 16,
    "lenVar": 40
   },
   "kernels_config": {
    "python": {
     "delete_cmd_postfix": "",
     "delete_cmd_prefix": "del ",
     "library": "var_list.py",
     "varRefreshCmd": "print(var_dic_list())"
    },
    "r": {
     "delete_cmd_postfix": ") ",
     "delete_cmd_prefix": "rm(",
     "library": "var_list.r",
     "varRefreshCmd": "cat(var_dic_list()) "
    }
   },
   "types_to_exclude": [
    "module",
    "function",
    "builtin_function_or_method",
    "instance",
    "_Feature"
   ],
   "window_display": false
  }
 },
 "nbformat": 4,
 "nbformat_minor": 2
}
